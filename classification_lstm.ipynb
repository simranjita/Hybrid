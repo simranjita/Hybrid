{
  "nbformat": 4,
  "nbformat_minor": 0,
  "metadata": {
    "colab": {
      "name": "classification-lstm.ipynb",
      "provenance": [],
      "collapsed_sections": [],
      "include_colab_link": true
    },
    "kernelspec": {
      "name": "python3",
      "display_name": "Python 3"
    },
    "accelerator": "GPU"
  },
  "cells": [
    {
      "cell_type": "markdown",
      "metadata": {
        "id": "view-in-github",
        "colab_type": "text"
      },
      "source": [
        "<a href=\"https://colab.research.google.com/github/simranjita/Hybrid/blob/master/classification_lstm.ipynb\" target=\"_parent\"><img src=\"https://colab.research.google.com/assets/colab-badge.svg\" alt=\"Open In Colab\"/></a>"
      ]
    },
    {
      "cell_type": "code",
      "metadata": {
        "id": "O0V41ZOMRPO4"
      },
      "source": [
        "from math import sqrt\n",
        "from numpy import concatenate\n",
        "\n",
        "from matplotlib a pyplot\n",
        "from pandas import read_csv\n",
        "from numpy import savetxt\n",
        "from pandas import DataFrame\n",
        "from pandas import concat\n",
        "from sklearn.preprocessing import MinMaxScaler\n",
        "from sklearn.preprocessing import LabelEncoder\n",
        "from sklearn.metrics import mean_squared_error\n",
        "from keras.models import Sequential\n",
        "from keras.layers import Dense\n",
        "from keras.layers import LSTM\n",
        "import numpy as np\n",
        "from pandas import read_csv\n",
        "from datetime import datetime\n",
        "\n",
        " "
      ],
      "execution_count": null,
      "outputs": []
    },
    {
      "cell_type": "code",
      "metadata": {
        "id": "MSzksWnLR7x7",
        "colab": {
          "base_uri": "https://localhost:8080/"
        },
        "outputId": "b3f19462-1fa2-4dcb-b969-d9573120f24f"
      },
      "source": [
        "# Load the Drive helper and mount\n",
        "from google.colab import drive\n",
        "\n",
        "# This will prompt for authorization.\n",
        "drive.mount('/content/drive')"
      ],
      "execution_count": null,
      "outputs": [
        {
          "output_type": "stream",
          "text": [
            "Mounted at /content/drive\n"
          ],
          "name": "stdout"
        }
      ]
    },
    {
      "cell_type": "code",
      "metadata": {
        "colab": {
          "base_uri": "https://localhost:8080/"
        },
        "id": "JoHivJQ8eKmo",
        "outputId": "b0ec990c-10ac-4b58-bffc-274a0ca471f7"
      },
      "source": [
        "!pip install keras"
      ],
      "execution_count": null,
      "outputs": [
        {
          "output_type": "stream",
          "text": [
            "Requirement already satisfied: keras in /usr/local/lib/python3.7/dist-packages (2.4.3)\n",
            "Requirement already satisfied: h5py in /usr/local/lib/python3.7/dist-packages (from keras) (3.1.0)\n",
            "Requirement already satisfied: numpy>=1.9.1 in /usr/local/lib/python3.7/dist-packages (from keras) (1.19.5)\n",
            "Requirement already satisfied: pyyaml in /usr/local/lib/python3.7/dist-packages (from keras) (3.13)\n",
            "Requirement already satisfied: scipy>=0.14 in /usr/local/lib/python3.7/dist-packages (from keras) (1.4.1)\n",
            "Requirement already satisfied: cached-property; python_version < \"3.8\" in /usr/local/lib/python3.7/dist-packages (from h5py->keras) (1.5.2)\n"
          ],
          "name": "stdout"
        }
      ]
    },
    {
      "cell_type": "code",
      "metadata": {
        "id": "rJjJyTqXRpsE"
      },
      "source": [
        "from keras.utils.np_utils import to_categorical\n",
        "\n",
        "\n",
        "dataset = read_csv(r'/content/drive/My Drive/Share/ACRS-HSI/orgwgtKSCwo_0.csv',header=None)\n",
        "dataset = np.array(dataset)\n",
        "classes=dataset[:,-1]\n",
        "dataset=np.delete(dataset,103,axis=1)\n",
        "#classes = to_categorical(classes)\n"
      ],
      "execution_count": null,
      "outputs": []
    },
    {
      "cell_type": "code",
      "metadata": {
        "id": "bQQakUWERorn"
      },
      "source": [
        "from sklearn.decomposition import PCA\n",
        "X=dataset\n",
        "Xpca = PCA(n_components=100).fit_transform(X)"
      ],
      "execution_count": null,
      "outputs": []
    },
    {
      "cell_type": "code",
      "metadata": {
        "id": "LL2IeRchRYGX"
      },
      "source": [
        "a=np.zeros([5211,1])\n",
        "for i in range(dataset.shape[0]):\n",
        "  a[i]=i;\n",
        "  \n",
        "count=np.array(a)\n",
        "datwc=np.hstack([count,Xpca])\n"
      ],
      "execution_count": null,
      "outputs": []
    },
    {
      "cell_type": "code",
      "metadata": {
        "colab": {
          "base_uri": "https://localhost:8080/"
        },
        "id": "026SHT3hei-w",
        "outputId": "3d72906f-fb82-4cfd-f537-ff443cf6c135"
      },
      "source": [
        ""
      ],
      "execution_count": null,
      "outputs": [
        {
          "output_type": "execute_result",
          "data": {
            "text/plain": [
              "array([[ 0.00000000e+00, -6.66316166e+02, -1.25106998e+02, ...,\n",
              "         7.68765390e-01, -1.06628794e+00, -6.82999578e-01],\n",
              "       [ 1.00000000e+00, -6.76219010e+02, -1.07266873e+02, ...,\n",
              "         4.98102706e-01,  8.15168078e-01,  5.46011852e-01],\n",
              "       [ 2.00000000e+00, -6.81673468e+02, -1.15131835e+02, ...,\n",
              "        -3.20413844e-01, -1.27433800e+00,  7.22237421e-01],\n",
              "       ...,\n",
              "       [ 5.20800000e+03,  5.58956969e+04, -3.17004704e+04, ...,\n",
              "         5.85024119e-02, -1.23565061e+00, -1.35422505e+00],\n",
              "       [ 5.20900000e+03, -7.12550593e+02, -1.46815751e+02, ...,\n",
              "         1.99719410e+00,  5.55869183e-01,  3.09584596e-01],\n",
              "       [ 5.21000000e+03, -7.19297949e+02, -1.45553962e+02, ...,\n",
              "        -2.64531160e-01, -5.31686634e-01,  2.79570532e-01]])"
            ]
          },
          "metadata": {
            "tags": []
          },
          "execution_count": 9
        }
      ]
    },
    {
      "cell_type": "code",
      "metadata": {
        "id": "_QO8_MPKRc75",
        "colab": {
          "base_uri": "https://localhost:8080/"
        },
        "outputId": "36e1be3b-2467-4c99-d5f3-ea65938a3c18"
      },
      "source": [
        "dataset=datwc\n",
        "from sklearn.model_selection import train_test_split\n",
        "\n",
        "train_X, test_X, train_y, test_y = train_test_split(dataset,classes, test_size=0.50, random_state=42)\n",
        "train_X = train_X.reshape((train_X.shape[0], 1, train_X.shape[1]))\n",
        "test_X = test_X.reshape((test_X.shape[0], 1, test_X.shape[1]))\n",
        "print(train_X.shape, train_y.shape, test_X.shape, test_y.shape)\n",
        "\n",
        "      \n"
      ],
      "execution_count": null,
      "outputs": [
        {
          "output_type": "stream",
          "text": [
            "(2605, 1, 101) (2605,) (2606, 1, 101) (2606,)\n"
          ],
          "name": "stdout"
        }
      ]
    },
    {
      "cell_type": "code",
      "metadata": {
        "id": "GnJDudzfS4MR",
        "colab": {
          "base_uri": "https://localhost:8080/"
        },
        "outputId": "99a1be5f-c751-474b-99a8-5eab454a4d8f"
      },
      "source": [
        "from keras.callbacks import ModelCheckpoint\n",
        "\n",
        "# design network\n",
        "model = Sequential()\n",
        "model.add(LSTM(400, input_shape=(train_X.shape[1], train_X.shape[2]),dropout=0.0))\n",
        "model.add(Dense(1,activation='softmax'))\n",
        "model.compile(loss='sparse_categorical_crossentropy', optimizer='adam', metrics=['accuracy'])\n",
        "filepath = \"best-model.hdf5\"\n",
        "checkpoint = ModelCheckpoint(filepath, monitor='acc', verbose=1, save_best_only=True, mode='max')\n",
        "callbacks_list = [checkpoint]\n",
        "model.summary()\n",
        "# fit network\n",
        "history = model.fit(train_X, train_y, validation_data=(test_X, test_y), epochs=10, verbose=1, callbacks=callbacks_list)\n",
        " \n",
        " "
      ],
      "execution_count": null,
      "outputs": [
        {
          "output_type": "stream",
          "text": [
            "Model: \"sequential\"\n",
            "_________________________________________________________________\n",
            "Layer (type)                 Output Shape              Param #   \n",
            "=================================================================\n",
            "lstm (LSTM)                  (None, 400)               803200    \n",
            "_________________________________________________________________\n",
            "dense (Dense)                (None, 1)                 401       \n",
            "=================================================================\n",
            "Total params: 803,601\n",
            "Trainable params: 803,601\n",
            "Non-trainable params: 0\n",
            "_________________________________________________________________\n",
            "Epoch 1/10\n",
            "82/82 [==============================] - 24s 17ms/step - loss: nan - accuracy: 0.0075 - val_loss: nan - val_accuracy: 0.0000e+00\n",
            "WARNING:tensorflow:Can save best model only with acc available, skipping.\n",
            "Epoch 2/10\n",
            "82/82 [==============================] - 1s 7ms/step - loss: nan - accuracy: 0.0000e+00 - val_loss: nan - val_accuracy: 0.0000e+00\n",
            "WARNING:tensorflow:Can save best model only with acc available, skipping.\n",
            "Epoch 3/10\n",
            "82/82 [==============================] - 1s 7ms/step - loss: nan - accuracy: 0.0000e+00 - val_loss: nan - val_accuracy: 0.0000e+00\n",
            "WARNING:tensorflow:Can save best model only with acc available, skipping.\n",
            "Epoch 4/10\n",
            "82/82 [==============================] - 1s 7ms/step - loss: nan - accuracy: 0.0000e+00 - val_loss: nan - val_accuracy: 0.0000e+00\n",
            "WARNING:tensorflow:Can save best model only with acc available, skipping.\n",
            "Epoch 5/10\n",
            "82/82 [==============================] - 1s 7ms/step - loss: nan - accuracy: 0.0000e+00 - val_loss: nan - val_accuracy: 0.0000e+00\n",
            "WARNING:tensorflow:Can save best model only with acc available, skipping.\n",
            "Epoch 6/10\n",
            "82/82 [==============================] - 0s 6ms/step - loss: nan - accuracy: 0.0000e+00 - val_loss: nan - val_accuracy: 0.0000e+00\n",
            "WARNING:tensorflow:Can save best model only with acc available, skipping.\n",
            "Epoch 7/10\n",
            "82/82 [==============================] - 0s 6ms/step - loss: nan - accuracy: 0.0000e+00 - val_loss: nan - val_accuracy: 0.0000e+00\n",
            "WARNING:tensorflow:Can save best model only with acc available, skipping.\n",
            "Epoch 8/10\n",
            "82/82 [==============================] - 1s 8ms/step - loss: nan - accuracy: 0.0000e+00 - val_loss: nan - val_accuracy: 0.0000e+00\n",
            "WARNING:tensorflow:Can save best model only with acc available, skipping.\n",
            "Epoch 9/10\n",
            "82/82 [==============================] - 1s 7ms/step - loss: nan - accuracy: 0.0000e+00 - val_loss: nan - val_accuracy: 0.0000e+00\n",
            "WARNING:tensorflow:Can save best model only with acc available, skipping.\n",
            "Epoch 10/10\n",
            "82/82 [==============================] - 0s 6ms/step - loss: nan - accuracy: 0.0000e+00 - val_loss: nan - val_accuracy: 0.0000e+00\n",
            "WARNING:tensorflow:Can save best model only with acc available, skipping.\n"
          ],
          "name": "stdout"
        }
      ]
    },
    {
      "cell_type": "code",
      "metadata": {
        "id": "8LxaO_-vhmaq"
      },
      "source": [
        "# load best weights\n",
        "model.load_weights(\"best-model.hdf5\")\n",
        "model.compile(loss='sparse_categorical_crossentropy', optimizer='adam', metrics=['accuracy'])"
      ],
      "execution_count": null,
      "outputs": []
    },
    {
      "cell_type": "code",
      "metadata": {
        "id": "NGW9ZoaQ1zaf"
      },
      "source": [
        "Y_pred_test = model.predict(test_X)\n",
        "y_pred_test = np.argmax(Y_pred_test, axis=1)\n"
      ],
      "execution_count": null,
      "outputs": []
    },
    {
      "cell_type": "code",
      "metadata": {
        "id": "HOFzdcJe4Uqe",
        "colab": {
          "base_uri": "https://localhost:8080/",
          "height": 683
        },
        "outputId": "283466b0-0bd7-4e57-8146-36741a44520f"
      },
      "source": [
        "\n",
        "from sklearn.metrics import accuracy_score\n",
        "from sklearn.metrics import classification_report\n",
        "\n",
        "print(classification_report(test_y,  y_pred_test))\n",
        "from sklearn.metrics import confusion_matrix\n",
        "\n",
        "cm = confusion_matrix(test_y,  y_pred_test)\n",
        "print(cm)\n",
        "accuracy_score(test_y, y_pred_test)*100\n"
      ],
      "execution_count": null,
      "outputs": [
        {
          "output_type": "stream",
          "text": [
            "              precision    recall  f1-score   support\n",
            "\n",
            "           1       0.95      0.96      0.95       400\n",
            "           2       0.85      0.90      0.87       111\n",
            "           3       0.97      0.98      0.98       125\n",
            "           4       0.99      0.73      0.84       132\n",
            "           5       0.82      0.95      0.88        84\n",
            "           6       0.97      0.88      0.92       117\n",
            "           7       0.83      0.92      0.88        53\n",
            "           8       0.96      0.98      0.97       218\n",
            "           9       0.96      1.00      0.98       242\n",
            "          10       0.96      0.92      0.94       198\n",
            "          11       1.00      1.00      1.00       205\n",
            "          12       0.96      0.94      0.95       247\n",
            "          13       0.97      0.99      0.98       474\n",
            "         189       0.00      0.00      0.00         0\n",
            "\n",
            "    accuracy                           0.95      2606\n",
            "   macro avg       0.87      0.87      0.87      2606\n",
            "weighted avg       0.95      0.95      0.95      2606\n",
            "\n",
            "[[384   1   0   0   2   2   0   5   2   4   0   0   0   0]\n",
            " [  0 100   0   0   0   0   9   0   0   1   0   1   0   0]\n",
            " [  0   0 123   0   0   0   0   1   1   0   0   0   0   0]\n",
            " [ 18   0   0  97  14   1   0   0   0   1   0   1   0   0]\n",
            " [  2   0   0   1  80   0   0   1   0   0   0   0   0   0]\n",
            " [  1   9   4   0   0 103   0   0   0   0   0   0   0   0]\n",
            " [  0   4   0   0   0   0  49   0   0   0   0   0   0   0]\n",
            " [  0   4   0   0   0   0   0 213   1   0   0   0   0   0]\n",
            " [  0   0   0   0   0   0   0   0 242   0   0   0   0   0]\n",
            " [  0   0   0   0   1   0   0   0   4 183   0   4   6   0]\n",
            " [  0   0   0   0   0   0   0   0   0   0 205   0   0   0]\n",
            " [  0   0   0   0   0   0   1   1   1   2   0 233   8   1]\n",
            " [  0   0   0   0   0   0   0   0   0   0   0   3 471   0]\n",
            " [  0   0   0   0   0   0   0   0   0   0   0   0   0   0]]\n"
          ],
          "name": "stdout"
        },
        {
          "output_type": "stream",
          "text": [
            "/usr/local/lib/python3.6/dist-packages/sklearn/metrics/classification.py:1439: UndefinedMetricWarning: Recall and F-score are ill-defined and being set to 0.0 in labels with no true samples.\n",
            "  'recall', 'true', average, warn_for)\n"
          ],
          "name": "stderr"
        },
        {
          "output_type": "execute_result",
          "data": {
            "text/plain": [
              "95.28012279355333"
            ]
          },
          "metadata": {
            "tags": []
          },
          "execution_count": 10
        }
      ]
    },
    {
      "cell_type": "code",
      "metadata": {
        "id": "6P-UOwPL4iCq"
      },
      "source": [
        ""
      ],
      "execution_count": null,
      "outputs": []
    }
  ]
}
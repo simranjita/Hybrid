{
  "nbformat": 4,
  "nbformat_minor": 0,
  "metadata": {
    "colab": {
      "name": "CEST Ext. LSTM+pca and lpp.ipynb",
      "provenance": [],
      "collapsed_sections": [],
      "machine_shape": "hm",
      "include_colab_link": true
    },
    "kernelspec": {
      "name": "python3",
      "display_name": "Python 3"
    },
    "accelerator": "GPU"
  },
  "cells": [
    {
      "cell_type": "markdown",
      "metadata": {
        "id": "view-in-github",
        "colab_type": "text"
      },
      "source": [
        "<a href=\"https://colab.research.google.com/github/simranjita/Hybrid/blob/master/CEST_Ext_LSTM%2Bpca_and_lpp.ipynb\" target=\"_parent\"><img src=\"https://colab.research.google.com/assets/colab-badge.svg\" alt=\"Open In Colab\"/></a>"
      ]
    },
    {
      "cell_type": "code",
      "metadata": {
        "id": "4ATZXpK0AYb_",
        "colab_type": "code",
        "colab": {}
      },
      "source": [
        "from math import sqrt\n",
        "from numpy import concatenate\n",
        "\n",
        "from matplotlib import pyplot\n",
        "from pandas import read_csv\n",
        "from pandas import DataFrame\n",
        "from pandas import concat\n",
        "from sklearn.preprocessing import MinMaxScaler\n",
        "from sklearn.preprocessing import LabelEncoder\n",
        "from sklearn.metrics import mean_squared_error\n",
        "from keras.models import Sequential\n",
        "from keras.layers import Dense\n",
        "from keras.layers import LSTM\n",
        "import numpy as np\n",
        "from pandas import read_csv\n",
        "\n",
        "from datetime import datetime\n",
        "\n",
        "from sklearn.preprocessing import LabelEncoder\n",
        "from sklearn.preprocessing import MinMaxScaler\n"
      ],
      "execution_count": null,
      "outputs": []
    },
    {
      "cell_type": "code",
      "metadata": {
        "id": "SDbxQfljA0Gy",
        "colab_type": "code",
        "colab": {
          "base_uri": "https://localhost:8080/",
          "height": 34
        },
        "outputId": "0a2ce3dc-162d-49ab-e7fc-44a2c4e9f3d4"
      },
      "source": [
        "# Load the Drive helper and mount\n",
        "from google.colab import drive\n",
        "\n",
        "# This will prompt for authorization.\n",
        "drive.mount('/content/drive')\n",
        "\n"
      ],
      "execution_count": null,
      "outputs": [
        {
          "output_type": "stream",
          "text": [
            "Mounted at /content/drive\n"
          ],
          "name": "stdout"
        }
      ]
    },
    {
      "cell_type": "code",
      "metadata": {
        "id": "P5SL8wAwnoob",
        "colab_type": "code",
        "colab": {
          "base_uri": "https://localhost:8080/",
          "height": 122
        },
        "outputId": "b8211e7d-e7a0-4d7b-cd7d-f6d58e2deca0"
      },
      "source": [
        "from google.colab import drive\n",
        "drive.mount('/content/drive')"
      ],
      "execution_count": null,
      "outputs": [
        {
          "output_type": "stream",
          "text": [
            "Go to this URL in a browser: https://accounts.google.com/o/oauth2/auth?client_id=947318989803-6bn6qk8qdgf4n4g3pfee6491hc0brc4i.apps.googleusercontent.com&redirect_uri=urn%3Aietf%3Awg%3Aoauth%3A2.0%3Aoob&scope=email%20https%3A%2F%2Fwww.googleapis.com%2Fauth%2Fdocs.test%20https%3A%2F%2Fwww.googleapis.com%2Fauth%2Fdrive%20https%3A%2F%2Fwww.googleapis.com%2Fauth%2Fdrive.photos.readonly%20https%3A%2F%2Fwww.googleapis.com%2Fauth%2Fpeopleapi.readonly&response_type=code\n",
            "\n",
            "Enter your authorization code:\n",
            "··········\n",
            "Mounted at /content/drive\n"
          ],
          "name": "stdout"
        }
      ]
    },
    {
      "cell_type": "code",
      "metadata": {
        "id": "sXn-0_wvCsN1",
        "colab_type": "code",
        "colab": {
          "base_uri": "https://localhost:8080/",
          "height": 34
        },
        "outputId": "6fc2232a-556e-46bb-9ece-a82e46661715"
      },
      "source": [
        "# After executing the cell above, Drive\n",
        "# files will be present in \"/content/drive/My Drive\".\n",
        "!ls \"/content/drive/My Drive\""
      ],
      "execution_count": null,
      "outputs": [
        {
          "output_type": "stream",
          "text": [
            " Book1.xlsx  'Colab Notebooks'\t Share\t Sir\n"
          ],
          "name": "stdout"
        }
      ]
    },
    {
      "cell_type": "code",
      "metadata": {
        "id": "L0oTdwY5Ej5Z",
        "colab_type": "code",
        "colab": {}
      },
      "source": [
        "dataset = read_csv(r'/content/drive/My Drive/Share/input/snv.csv')\n"
      ],
      "execution_count": null,
      "outputs": []
    },
    {
      "cell_type": "code",
      "metadata": {
        "id": "FY3aokZbQwbC",
        "colab_type": "code",
        "colab": {}
      },
      "source": [
        ""
      ],
      "execution_count": null,
      "outputs": []
    },
    {
      "cell_type": "code",
      "metadata": {
        "id": "slDktevWn8nK",
        "colab_type": "code",
        "colab": {}
      },
      "source": [
        ""
      ],
      "execution_count": null,
      "outputs": []
    },
    {
      "cell_type": "code",
      "metadata": {
        "id": "oJW8Wd-_Ev2P",
        "colab_type": "code",
        "colab": {}
      },
      "source": [
        "classes = read_csv(r\"/content/drive/My Drive/Share/input/skimmed_classes.csv\",header=None)"
      ],
      "execution_count": null,
      "outputs": []
    },
    {
      "cell_type": "code",
      "metadata": {
        "id": "aqnfEJ5VFLEB",
        "colab_type": "code",
        "colab": {}
      },
      "source": [
        "import numpy as np\n",
        "dataset=np.array(dataset)\n",
        "classes=np.array(classes)\n",
        "X=dataset\n",
        "\n"
      ],
      "execution_count": null,
      "outputs": []
    },
    {
      "cell_type": "code",
      "metadata": {
        "id": "WQFgiG7mFZHL",
        "colab_type": "code",
        "colab": {}
      },
      "source": [
        "from sklearn.decomposition import PCA\n",
        "X=dataset\n",
        "Xpca = PCA(n_components=1000).fit_transform(X)\n"
      ],
      "execution_count": null,
      "outputs": []
    },
    {
      "cell_type": "code",
      "metadata": {
        "id": "FH8U6-TkbARH",
        "colab_type": "code",
        "colab": {}
      },
      "source": [
        "import pyorient\n",
        "from lpproj import LocalityPreservingProjection\n",
        "lpp = LocalityPreservingProjection(n_components=1000,\n",
        "               neighbors_algorithm='auto', weight='adjacency',\n",
        "               weight_width=1.0)\n",
        "LPP = lpp.fit_transform(X)\n"
      ],
      "execution_count": null,
      "outputs": []
    },
    {
      "cell_type": "code",
      "metadata": {
        "id": "LkAEagMLbG9-",
        "colab_type": "code",
        "colab": {}
      },
      "source": [
        "ze=np.zeros([1,1000])\n",
        "lppo=np.concatenate([ze,LPP],axis=0)\n",
        "lppo.shape\n",
        "pcao=np.concatenate([ze,Xpca],axis=0)"
      ],
      "execution_count": null,
      "outputs": []
    },
    {
      "cell_type": "code",
      "metadata": {
        "id": "KDImOhufBiY7",
        "colab_type": "code",
        "colab": {}
      },
      "source": [
        "np.savetxt(\"/content/drive/My Drive/Share/lpp1000.csv\",lppo,delimiter=\",\")"
      ],
      "execution_count": null,
      "outputs": []
    },
    {
      "cell_type": "code",
      "metadata": {
        "id": "hkRrZNVQQnw2",
        "colab_type": "code",
        "colab": {}
      },
      "source": [
        "np.savetxt(\"/content/drive/My Drive/Share/pca1000.csv\",pcao,delimiter=\",\")"
      ],
      "execution_count": null,
      "outputs": []
    },
    {
      "cell_type": "code",
      "metadata": {
        "id": "iMMj1ClZGz8l",
        "colab_type": "code",
        "colab": {}
      },
      "source": [
        "dataset=np.concatenate([pcao, lppo],axis=1)"
      ],
      "execution_count": null,
      "outputs": []
    },
    {
      "cell_type": "code",
      "metadata": {
        "id": "Issg0x_vPGUX",
        "colab_type": "code",
        "colab": {}
      },
      "source": [
        "LPP = read_csv(r'/content/drive/My Drive/Share/lpp1000.csv')\n",
        "Xpca=read_csv(r'/content/drive/My Drive/Share/pca1000.csv')\n",
        "dataset=np.concatenate([Xpca, LPP],axis=1)"
      ],
      "execution_count": null,
      "outputs": []
    },
    {
      "cell_type": "code",
      "metadata": {
        "id": "zQAhMWEEKneK",
        "colab_type": "code",
        "colab": {
          "base_uri": "https://localhost:8080/",
          "height": 34
        },
        "outputId": "f2db7d4b-0ab0-436f-c3aa-7d2296789bec"
      },
      "source": [
        "dataset.shape"
      ],
      "execution_count": null,
      "outputs": [
        {
          "output_type": "execute_result",
          "data": {
            "text/plain": [
              "(19036, 2000)"
            ]
          },
          "metadata": {
            "tags": []
          },
          "execution_count": 20
        }
      ]
    },
    {
      "cell_type": "code",
      "metadata": {
        "id": "8d5_E4iYGFni",
        "colab_type": "code",
        "colab": {}
      },
      "source": [
        "dataset=np.array(dataset)\n",
        "classes=np.array(classes)\n",
        "coarse=classes[:,0]\n",
        "coarse= coarse[:, None]\n",
        " \n",
        "clay=classes[:,1]\n",
        "clay= clay[:,None]\n",
        " \n",
        "silt=classes[:,2]\n",
        "silt= silt[:,None]\n",
        " \n",
        "sand=classes[:,3]\n",
        "sand= sand[:,None]\n",
        " \n",
        "phcacl2=classes[:,4]\n",
        "phcacl2= phcacl2[:,None]\n",
        " \n",
        "ph20=classes[:,5]\n",
        "ph20= ph20[:,None]\n",
        " \n",
        "oc=classes[:,6]\n",
        "oc= oc[:,None]\n",
        " \n",
        "caco3=classes[:,7]\n",
        "caco3= caco3[:,None]\n",
        " \n",
        "nitrogen=classes[:,8]  \n",
        "nitrogen= nitrogen[:,None]\n",
        " \n",
        "phos=classes[:,9]\n",
        "phos= phos[:,None]\n",
        " \n",
        "potash=classes[:,10]\n",
        "potash= potash[:,None]\n",
        "      \n",
        "cec=classes[:,11]\n",
        "cec= cec[:,None]\n",
        " \n",
        "\n"
      ],
      "execution_count": null,
      "outputs": []
    },
    {
      "cell_type": "code",
      "metadata": {
        "id": "q5qEmty1HL2i",
        "colab_type": "code",
        "colab": {}
      },
      "source": [
        "mineral=oc\n",
        " "
      ],
      "execution_count": null,
      "outputs": []
    },
    {
      "cell_type": "code",
      "metadata": {
        "id": "s4CqcbXuJvU5",
        "colab_type": "code",
        "colab": {
          "base_uri": "https://localhost:8080/",
          "height": 34
        },
        "outputId": "09e3e46b-7a8a-4dbe-8bb1-d65d4e4a8413"
      },
      "source": [
        "from sklearn.model_selection import train_test_split\n",
        "train_X, test_X, train_y, test_y = train_test_split(dataset, mineral, test_size=0.25, random_state=42)\n",
        "# reshape input to be 3D [samples, timesteps, features]\n",
        "train_X = train_X.reshape((train_X.shape[0], 1, train_X.shape[1]))\n",
        "test_X = test_X.reshape((test_X.shape[0], 1, test_X.shape[1]))\n",
        "print(train_X.shape, train_y.shape, test_X.shape,test_y.shape)\n",
        "\n"
      ],
      "execution_count": null,
      "outputs": [
        {
          "output_type": "stream",
          "text": [
            "(14277, 1, 2000) (14277, 1) (4759, 1, 2000) (4759, 1)\n"
          ],
          "name": "stdout"
        }
      ]
    },
    {
      "cell_type": "code",
      "metadata": {
        "id": "dlv3aBsgYR8m",
        "colab_type": "code",
        "colab": {
          "base_uri": "https://localhost:8080/",
          "height": 1000
        },
        "outputId": "9855cd51-6941-4c21-a011-dc1397ba0b49"
      },
      "source": [
        "\n",
        "model = Sequential()\n",
        "model.add(LSTM(2500, input_shape=(train_X.shape[1], train_X.shape[2]), dropout=0.1))\n",
        "model.add(Dense(1))\n",
        "\n",
        "model.compile(loss='mae', optimizer='adam')\n",
        "model.summary()\n",
        "# fit network\n",
        "\n",
        "history=model.fit(train_X, train_y, epochs=100, batch_size=100, \n",
        "                    verbose=1,validation_split=0.25,\n",
        "                    shuffle=False)"
      ],
      "execution_count": null,
      "outputs": [
        {
          "output_type": "stream",
          "text": [
            "_________________________________________________________________\n",
            "Layer (type)                 Output Shape              Param #   \n",
            "=================================================================\n",
            "lstm_9 (LSTM)                (None, 2500)              45010000  \n",
            "_________________________________________________________________\n",
            "dense_9 (Dense)              (None, 1)                 2501      \n",
            "=================================================================\n",
            "Total params: 45,012,501\n",
            "Trainable params: 45,012,501\n",
            "Non-trainable params: 0\n",
            "_________________________________________________________________\n",
            "Train on 10707 samples, validate on 3570 samples\n",
            "Epoch 1/100\n",
            "10707/10707 [==============================] - 11s 1ms/step - loss: 38.0455 - val_loss: 25.6045\n",
            "Epoch 2/100\n",
            "10707/10707 [==============================] - 6s 601us/step - loss: 25.5023 - val_loss: 19.9814\n",
            "Epoch 3/100\n",
            "10707/10707 [==============================] - 6s 601us/step - loss: 20.8070 - val_loss: 16.7101\n",
            "Epoch 4/100\n",
            "10707/10707 [==============================] - 6s 594us/step - loss: 17.8286 - val_loss: 14.5022\n",
            "Epoch 5/100\n",
            "10707/10707 [==============================] - 6s 593us/step - loss: 15.6817 - val_loss: 13.1419\n",
            "Epoch 6/100\n",
            "10707/10707 [==============================] - 6s 602us/step - loss: 14.4164 - val_loss: 12.2709\n",
            "Epoch 7/100\n",
            "10707/10707 [==============================] - 6s 599us/step - loss: 13.5593 - val_loss: 11.8673\n",
            "Epoch 8/100\n",
            "10707/10707 [==============================] - 6s 602us/step - loss: 12.8202 - val_loss: 11.6200\n",
            "Epoch 9/100\n",
            "10707/10707 [==============================] - 6s 599us/step - loss: 12.3733 - val_loss: 11.3179\n",
            "Epoch 10/100\n",
            "10707/10707 [==============================] - 6s 600us/step - loss: 12.1685 - val_loss: 11.1267\n",
            "Epoch 11/100\n",
            "10707/10707 [==============================] - 6s 597us/step - loss: 11.7568 - val_loss: 10.9859\n",
            "Epoch 12/100\n",
            "10707/10707 [==============================] - 6s 599us/step - loss: 11.5021 - val_loss: 10.8733\n",
            "Epoch 13/100\n",
            "10707/10707 [==============================] - 6s 592us/step - loss: 11.4660 - val_loss: 10.8423\n",
            "Epoch 14/100\n",
            "10707/10707 [==============================] - 6s 588us/step - loss: 11.2555 - val_loss: 10.6148\n",
            "Epoch 15/100\n",
            "10707/10707 [==============================] - 6s 595us/step - loss: 11.1546 - val_loss: 10.8074\n",
            "Epoch 16/100\n",
            "10707/10707 [==============================] - 6s 601us/step - loss: 11.0031 - val_loss: 10.5485\n",
            "Epoch 17/100\n",
            "10707/10707 [==============================] - 6s 603us/step - loss: 10.7783 - val_loss: 10.6004\n",
            "Epoch 18/100\n",
            "10707/10707 [==============================] - 6s 595us/step - loss: 10.6111 - val_loss: 10.6564\n",
            "Epoch 19/100\n",
            "10707/10707 [==============================] - 6s 600us/step - loss: 10.7102 - val_loss: 10.1677\n",
            "Epoch 20/100\n",
            "10707/10707 [==============================] - 6s 600us/step - loss: 10.4715 - val_loss: 10.5806\n",
            "Epoch 21/100\n",
            "10707/10707 [==============================] - 6s 602us/step - loss: 10.3742 - val_loss: 10.1256\n",
            "Epoch 22/100\n",
            "10707/10707 [==============================] - 6s 600us/step - loss: 10.2568 - val_loss: 10.3799\n",
            "Epoch 23/100\n",
            "10707/10707 [==============================] - 6s 596us/step - loss: 10.0807 - val_loss: 10.1259\n",
            "Epoch 24/100\n",
            "10707/10707 [==============================] - 6s 598us/step - loss: 10.0788 - val_loss: 10.0694\n",
            "Epoch 25/100\n",
            "10707/10707 [==============================] - 6s 599us/step - loss: 9.7476 - val_loss: 10.2191\n",
            "Epoch 26/100\n",
            "10707/10707 [==============================] - 6s 601us/step - loss: 9.6758 - val_loss: 9.9363\n",
            "Epoch 27/100\n",
            "10707/10707 [==============================] - 6s 599us/step - loss: 9.7703 - val_loss: 9.9209\n",
            "Epoch 28/100\n",
            "10707/10707 [==============================] - 6s 601us/step - loss: 9.6228 - val_loss: 9.8502\n",
            "Epoch 29/100\n",
            "10707/10707 [==============================] - 6s 600us/step - loss: 9.5235 - val_loss: 9.9891\n",
            "Epoch 30/100\n",
            "10707/10707 [==============================] - 6s 599us/step - loss: 9.6952 - val_loss: 9.8914\n",
            "Epoch 31/100\n",
            "10707/10707 [==============================] - 6s 602us/step - loss: 9.4168 - val_loss: 9.7803\n",
            "Epoch 32/100\n",
            "10707/10707 [==============================] - 6s 601us/step - loss: 9.3229 - val_loss: 10.1241\n",
            "Epoch 33/100\n",
            "10707/10707 [==============================] - 6s 602us/step - loss: 9.2933 - val_loss: 9.8864\n",
            "Epoch 34/100\n",
            "10707/10707 [==============================] - 6s 603us/step - loss: 9.1869 - val_loss: 9.6282\n",
            "Epoch 35/100\n",
            "10707/10707 [==============================] - 6s 606us/step - loss: 9.1893 - val_loss: 9.9470\n",
            "Epoch 36/100\n",
            "10707/10707 [==============================] - 6s 603us/step - loss: 9.0282 - val_loss: 9.7532\n",
            "Epoch 37/100\n",
            "10707/10707 [==============================] - 6s 600us/step - loss: 9.0111 - val_loss: 9.9216\n",
            "Epoch 38/100\n",
            "10707/10707 [==============================] - 6s 600us/step - loss: 9.0226 - val_loss: 9.6164\n",
            "Epoch 39/100\n",
            "10707/10707 [==============================] - 6s 601us/step - loss: 9.0406 - val_loss: 9.8389\n",
            "Epoch 40/100\n",
            "10707/10707 [==============================] - 6s 602us/step - loss: 8.8755 - val_loss: 9.8542\n",
            "Epoch 41/100\n",
            "10707/10707 [==============================] - 6s 606us/step - loss: 8.7848 - val_loss: 9.8398\n",
            "Epoch 42/100\n",
            "10707/10707 [==============================] - 6s 604us/step - loss: 8.7260 - val_loss: 9.9266\n",
            "Epoch 43/100\n",
            "10707/10707 [==============================] - 6s 599us/step - loss: 8.6393 - val_loss: 9.7666\n",
            "Epoch 44/100\n",
            "10707/10707 [==============================] - 6s 591us/step - loss: 8.6242 - val_loss: 9.6934\n",
            "Epoch 45/100\n",
            "10707/10707 [==============================] - 6s 596us/step - loss: 8.5844 - val_loss: 10.0041\n",
            "Epoch 46/100\n",
            "10707/10707 [==============================] - 6s 601us/step - loss: 8.4365 - val_loss: 9.7984\n",
            "Epoch 47/100\n",
            "10707/10707 [==============================] - 6s 601us/step - loss: 8.3613 - val_loss: 9.6408\n",
            "Epoch 48/100\n",
            "10707/10707 [==============================] - 6s 598us/step - loss: 8.4729 - val_loss: 9.6349\n",
            "Epoch 49/100\n",
            "10707/10707 [==============================] - 6s 595us/step - loss: 8.2871 - val_loss: 9.5069\n",
            "Epoch 50/100\n",
            "10707/10707 [==============================] - 6s 601us/step - loss: 8.2677 - val_loss: 9.6599\n",
            "Epoch 51/100\n",
            "10707/10707 [==============================] - 6s 603us/step - loss: 8.2398 - val_loss: 9.8049\n",
            "Epoch 52/100\n",
            "10707/10707 [==============================] - 6s 605us/step - loss: 8.1976 - val_loss: 9.9185\n",
            "Epoch 53/100\n",
            "10707/10707 [==============================] - 6s 600us/step - loss: 8.3104 - val_loss: 9.7771\n",
            "Epoch 54/100\n",
            "10707/10707 [==============================] - 6s 600us/step - loss: 8.0126 - val_loss: 9.7172\n",
            "Epoch 55/100\n",
            "10707/10707 [==============================] - 6s 601us/step - loss: 8.1107 - val_loss: 9.8028\n",
            "Epoch 56/100\n",
            "10707/10707 [==============================] - 6s 599us/step - loss: 7.9545 - val_loss: 9.6672\n",
            "Epoch 57/100\n",
            "10707/10707 [==============================] - 6s 600us/step - loss: 7.9769 - val_loss: 9.6267\n",
            "Epoch 58/100\n",
            "10707/10707 [==============================] - 6s 603us/step - loss: 7.8069 - val_loss: 9.7035\n",
            "Epoch 59/100\n",
            "10707/10707 [==============================] - 6s 599us/step - loss: 7.7912 - val_loss: 9.4992\n",
            "Epoch 60/100\n",
            "10707/10707 [==============================] - 6s 600us/step - loss: 7.8397 - val_loss: 9.6225\n",
            "Epoch 61/100\n",
            "10707/10707 [==============================] - 6s 598us/step - loss: 7.7401 - val_loss: 9.6396\n",
            "Epoch 62/100\n",
            "10707/10707 [==============================] - 6s 601us/step - loss: 7.7186 - val_loss: 9.5444\n",
            "Epoch 63/100\n",
            "10707/10707 [==============================] - 6s 597us/step - loss: 7.6136 - val_loss: 9.6456\n",
            "Epoch 64/100\n",
            "10707/10707 [==============================] - 6s 598us/step - loss: 7.6777 - val_loss: 9.6640\n",
            "Epoch 65/100\n",
            "10707/10707 [==============================] - 6s 597us/step - loss: 7.6812 - val_loss: 9.5354\n",
            "Epoch 66/100\n",
            "10707/10707 [==============================] - 6s 597us/step - loss: 7.6653 - val_loss: 9.6669\n",
            "Epoch 67/100\n",
            "10707/10707 [==============================] - 6s 602us/step - loss: 7.5613 - val_loss: 9.8040\n",
            "Epoch 68/100\n",
            "10707/10707 [==============================] - 6s 602us/step - loss: 7.6574 - val_loss: 9.6856\n",
            "Epoch 69/100\n",
            "10707/10707 [==============================] - 6s 600us/step - loss: 7.5372 - val_loss: 9.6488\n",
            "Epoch 70/100\n",
            "10707/10707 [==============================] - 6s 600us/step - loss: 7.3662 - val_loss: 9.9251\n",
            "Epoch 71/100\n",
            "10707/10707 [==============================] - 6s 596us/step - loss: 7.3964 - val_loss: 9.5790\n",
            "Epoch 72/100\n",
            "10707/10707 [==============================] - 6s 597us/step - loss: 7.2726 - val_loss: 9.5709\n",
            "Epoch 73/100\n",
            "10707/10707 [==============================] - 6s 600us/step - loss: 7.1863 - val_loss: 9.5256\n",
            "Epoch 74/100\n",
            "10707/10707 [==============================] - 6s 598us/step - loss: 7.3400 - val_loss: 9.6117\n",
            "Epoch 75/100\n",
            "10707/10707 [==============================] - 6s 601us/step - loss: 7.2095 - val_loss: 9.6395\n",
            "Epoch 76/100\n",
            "10707/10707 [==============================] - 6s 600us/step - loss: 7.2393 - val_loss: 9.5363\n",
            "Epoch 77/100\n",
            "10707/10707 [==============================] - 6s 598us/step - loss: 7.0329 - val_loss: 9.6288\n",
            "Epoch 78/100\n",
            "10707/10707 [==============================] - 6s 598us/step - loss: 7.1318 - val_loss: 9.6684\n",
            "Epoch 79/100\n",
            "10707/10707 [==============================] - 6s 588us/step - loss: 7.0951 - val_loss: 9.4769\n",
            "Epoch 80/100\n",
            "10707/10707 [==============================] - 6s 596us/step - loss: 6.9427 - val_loss: 9.5527\n",
            "Epoch 81/100\n",
            "10707/10707 [==============================] - 6s 600us/step - loss: 6.9778 - val_loss: 9.9190\n",
            "Epoch 82/100\n",
            "10707/10707 [==============================] - 6s 599us/step - loss: 7.0074 - val_loss: 9.6099\n",
            "Epoch 83/100\n",
            "10707/10707 [==============================] - 6s 591us/step - loss: 6.9432 - val_loss: 9.5848\n",
            "Epoch 84/100\n",
            "10707/10707 [==============================] - 6s 597us/step - loss: 6.9976 - val_loss: 9.7037\n",
            "Epoch 85/100\n",
            "10707/10707 [==============================] - 6s 600us/step - loss: 6.8983 - val_loss: 9.6744\n",
            "Epoch 86/100\n",
            "10707/10707 [==============================] - 6s 600us/step - loss: 6.8043 - val_loss: 9.7240\n",
            "Epoch 87/100\n",
            "10707/10707 [==============================] - 6s 597us/step - loss: 6.7488 - val_loss: 9.6853\n",
            "Epoch 88/100\n",
            "10707/10707 [==============================] - 6s 601us/step - loss: 6.7849 - val_loss: 9.6425\n",
            "Epoch 89/100\n",
            "10707/10707 [==============================] - 6s 601us/step - loss: 6.7742 - val_loss: 9.7311\n",
            "Epoch 90/100\n",
            "10707/10707 [==============================] - 7s 608us/step - loss: 6.6971 - val_loss: 9.6112\n",
            "Epoch 91/100\n",
            "10707/10707 [==============================] - 6s 599us/step - loss: 6.6651 - val_loss: 9.5300\n",
            "Epoch 92/100\n",
            "10707/10707 [==============================] - 6s 599us/step - loss: 6.6215 - val_loss: 9.9625\n",
            "Epoch 93/100\n",
            "10707/10707 [==============================] - 6s 600us/step - loss: 6.7588 - val_loss: 9.4489\n",
            "Epoch 94/100\n",
            "10707/10707 [==============================] - 6s 597us/step - loss: 6.4975 - val_loss: 9.6209\n",
            "Epoch 95/100\n",
            "10707/10707 [==============================] - 6s 598us/step - loss: 6.5496 - val_loss: 9.4426\n",
            "Epoch 96/100\n",
            "10707/10707 [==============================] - 6s 597us/step - loss: 6.6492 - val_loss: 9.6888\n",
            "Epoch 97/100\n",
            "10707/10707 [==============================] - 6s 600us/step - loss: 6.6054 - val_loss: 9.6262\n",
            "Epoch 98/100\n",
            "10707/10707 [==============================] - 6s 601us/step - loss: 6.4539 - val_loss: 9.6019\n",
            "Epoch 99/100\n",
            "10707/10707 [==============================] - 6s 601us/step - loss: 6.5250 - val_loss: 9.8116\n",
            "Epoch 100/100\n",
            "10707/10707 [==============================] - 6s 598us/step - loss: 6.5565 - val_loss: 9.7169\n"
          ],
          "name": "stdout"
        }
      ]
    },
    {
      "cell_type": "code",
      "metadata": {
        "id": "tTmStcXQOAYH",
        "colab_type": "code",
        "colab": {
          "base_uri": "https://localhost:8080/",
          "height": 283
        },
        "outputId": "330b6d41-2863-4f4a-9ebd-e6ec5f9f43f5"
      },
      "source": [
        "from matplotlib import pyplot as plt\n",
        "# summarize history for loss\n",
        "\n",
        "pyplot.plot(history.history['loss'], label='Training')\n",
        "pyplot.plot(history.history['val_loss'], label='Validation')\n",
        "plt.xlabel('Epochs') \n",
        "plt.ylabel('Loss') \n",
        "plt.legend()\n",
        "plt.draw()\n",
        "plt.savefig(\"/content/drive/My Drive/Share/oc1.png\",dpi=400)\n",
        "plt.show()"
      ],
      "execution_count": null,
      "outputs": [
        {
          "output_type": "display_data",
          "data": {
            "image/png": "[encoded data removed]",
            "text/plain": [
              "<Figure size 432x288 with 1 Axes>"
            ]
          },
          "metadata": {
            "tags": []
          }
        }
      ]
    },
    {
      "cell_type": "code",
      "metadata": {
        "id": "vt3ii2COOuTJ",
        "colab_type": "code",
        "colab": {
          "base_uri": "https://localhost:8080/",
          "height": 51
        },
        "outputId": "136d23a2-3a99-4a2a-dedf-c3e6328c0638"
      },
      "source": [
        "yhat = model.predict(test_X)\n",
        "r_rmse = sqrt(mean_squared_error(test_y,yhat))\n",
        "print('Test RMSE: %.3f' % r_rmse)\n",
        "from sklearn.metrics import r2_score\n",
        "from scipy.stats import kendalltau\n",
        "from scipy.stats import spearmanr\n",
        "from sklearn.metrics import mean_absolute_error\n",
        "r_kendalcoef, p = kendalltau(test_y,yhat)\n",
        "\n",
        "r_spearmancoef1, p1 = spearmanr(test_y,yhat)\n",
        "r_mae=mean_absolute_error(test_y, yhat)\n",
        "r_r2=r2_score(test_y, yhat)\n",
        "print('Test R2: %.3f' % r_r2)\n",
        "\n"
      ],
      "execution_count": null,
      "outputs": [
        {
          "output_type": "stream",
          "text": [
            "Test RMSE: 20.033\n",
            "Test R2: 0.951\n"
          ],
          "name": "stdout"
        }
      ]
    },
    {
      "cell_type": "code",
      "metadata": {
        "id": "KvD2YOSiLdlq",
        "colab_type": "code",
        "colab": {}
      },
      "source": [
        "loss=history.history['loss']\n",
        "val_loss=history.history['val_loss']\n",
        "loss=np.array(loss)\n",
        "loss=loss[:,None]\n",
        "val_loss=np.array(val_loss)\n",
        "val_loss=val_loss[:,None]\n",
        "zzloss=np.concatenate([loss, val_loss], axis=1)\n",
        "np.savetxt(\"/content/drive/My Drive/Share/oc1-loss.csv\", zzloss, delimiter=\",\")\n",
        "\n"
      ],
      "execution_count": null,
      "outputs": []
    },
    {
      "cell_type": "code",
      "metadata": {
        "id": "fwjmvLuyC6jD",
        "colab_type": "code",
        "colab": {}
      },
      "source": [
        "zresult=np.vstack([r_kendalcoef,r_mae,r_r2,r_rmse, r_spearmancoef1])\n",
        "\n",
        "np.savetxt(\"/content/drive/My Drive/Share/oc1-results.csv\", zresult, delimiter=\",\")\n"
      ],
      "execution_count": null,
      "outputs": []
    },
    {
      "cell_type": "code",
      "metadata": {
        "id": "sEUE7Uc1MW9U",
        "colab_type": "code",
        "colab": {}
      },
      "source": [
        "residual=test_y-yhat\n",
        "zzyhatest=np.concatenate([yhat,test_y,residual],axis=1)\n",
        "\n",
        "np.savetxt(\"/content/drive/My Drive/Share/oc1-yhattest.csv\", zzyhatest, delimiter=\",\")\n",
        "\n"
      ],
      "execution_count": null,
      "outputs": []
    },
    {
      "cell_type": "code",
      "metadata": {
        "id": "i5DfcEzXNMjh",
        "colab_type": "code",
        "colab": {
          "base_uri": "https://localhost:8080/",
          "height": 357
        },
        "outputId": "e7147342-6ad6-4bba-bcde-8e050b95929c"
      },
      "source": [
        "! pip install pyorient\n",
        "! pip install lpproj"
      ],
      "execution_count": null,
      "outputs": [
        {
          "output_type": "stream",
          "text": [
            "Collecting pyorient\n",
            "\u001b[?25l  Downloading https://files.pythonhosted.org/packages/c4/13/cfab515139c58f86e7c42c64b1b740d28a13d60f8eb2a427effbfcba17b4/pyorient-1.5.5.tar.gz (68kB)\n",
            "\r\u001b[K     |████▊                           | 10kB 18.3MB/s eta 0:00:01\r\u001b[K     |█████████▌                      | 20kB 2.8MB/s eta 0:00:01\r\u001b[K     |██████████████▎                 | 30kB 3.7MB/s eta 0:00:01\r\u001b[K     |███████████████████             | 40kB 2.9MB/s eta 0:00:01\r\u001b[K     |███████████████████████▊        | 51kB 3.6MB/s eta 0:00:01\r\u001b[K     |████████████████████████████▌   | 61kB 4.1MB/s eta 0:00:01\r\u001b[K     |████████████████████████████████| 71kB 3.1MB/s \n",
            "\u001b[?25hBuilding wheels for collected packages: pyorient\n",
            "  Building wheel for pyorient (setup.py) ... \u001b[?25l\u001b[?25hdone\n",
            "  Created wheel for pyorient: filename=pyorient-1.5.5-cp36-none-any.whl size=79054 sha256=cd66c0a36fcf6e5d8068daa66b38440d576adf3cb202278f2c04d1ecd58792c1\n",
            "  Stored in directory: /root/.cache/pip/wheels/e4/e3/fa/7767bf3473c9a04d04cb655d1a5560b7183b1fb2df015cd861\n",
            "Successfully built pyorient\n",
            "Installing collected packages: pyorient\n",
            "Successfully installed pyorient-1.5.5\n",
            "Collecting lpproj\n",
            "\u001b[?25l  Downloading https://files.pythonhosted.org/packages/90/74/873ab0f546167bef39f5addc0ac437712e30df059a4849ce087306262a1e/lpproj-0.1.tar.gz (221kB)\n",
            "\u001b[K     |████████████████████████████████| 225kB 4.5MB/s \n",
            "\u001b[?25hBuilding wheels for collected packages: lpproj\n",
            "  Building wheel for lpproj (setup.py) ... \u001b[?25l\u001b[?25hdone\n",
            "  Created wheel for lpproj: filename=lpproj-0.1-cp36-none-any.whl size=6582 sha256=c7e2e886fbf3c018659af1591ce3e1573810c4a1b3780f7df1311489bb372c2c\n",
            "  Stored in directory: /root/.cache/pip/wheels/4d/84/10/a12679a2c430ee95c4414fdfe6c4221be8754013ba996507b4\n",
            "Successfully built lpproj\n",
            "Installing collected packages: lpproj\n",
            "Successfully installed lpproj-0.1\n"
          ],
          "name": "stdout"
        }
      ]
    }
  ]
}